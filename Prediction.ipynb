{
 "cells": [
  {
   "cell_type": "code",
   "execution_count": 2,
   "id": "70fbc799-7950-45af-a3d9-a7dbf34f04c4",
   "metadata": {},
   "outputs": [
    {
     "name": "stdout",
     "output_type": "stream",
     "text": [
      "<bound method NDFrame.head of        longitude  latitude  housing_median_age  total_rooms  total_bedrooms  \\\n",
      "0        -122.23     37.88                41.0        880.0           129.0   \n",
      "1        -122.22     37.86                21.0       7099.0          1106.0   \n",
      "2        -122.24     37.85                52.0       1467.0           190.0   \n",
      "3        -122.25     37.85                52.0       1274.0           235.0   \n",
      "4        -122.25     37.85                52.0       1627.0           280.0   \n",
      "...          ...       ...                 ...          ...             ...   \n",
      "20635    -121.09     39.48                25.0       1665.0           374.0   \n",
      "20636    -121.21     39.49                18.0        697.0           150.0   \n",
      "20637    -121.22     39.43                17.0       2254.0           485.0   \n",
      "20638    -121.32     39.43                18.0       1860.0           409.0   \n",
      "20639    -121.24     39.37                16.0       2785.0           616.0   \n",
      "\n",
      "       population  households  median_income  median_house_value  \\\n",
      "0           322.0       126.0         8.3252            452600.0   \n",
      "1          2401.0      1138.0         8.3014            358500.0   \n",
      "2           496.0       177.0         7.2574            352100.0   \n",
      "3           558.0       219.0         5.6431            341300.0   \n",
      "4           565.0       259.0         3.8462            342200.0   \n",
      "...           ...         ...            ...                 ...   \n",
      "20635       845.0       330.0         1.5603             78100.0   \n",
      "20636       356.0       114.0         2.5568             77100.0   \n",
      "20637      1007.0       433.0         1.7000             92300.0   \n",
      "20638       741.0       349.0         1.8672             84700.0   \n",
      "20639      1387.0       530.0         2.3886             89400.0   \n",
      "\n",
      "      ocean_proximity  \n",
      "0            NEAR BAY  \n",
      "1            NEAR BAY  \n",
      "2            NEAR BAY  \n",
      "3            NEAR BAY  \n",
      "4            NEAR BAY  \n",
      "...               ...  \n",
      "20635          INLAND  \n",
      "20636          INLAND  \n",
      "20637          INLAND  \n",
      "20638          INLAND  \n",
      "20639          INLAND  \n",
      "\n",
      "[20640 rows x 10 columns]>\n"
     ]
    }
   ],
   "source": [
    "import pandas as pd\n",
    "import numpy as np\n",
    "import matplotlib.pyplot as plt\n",
    "import seaborn as sns\n",
    "import numpy as np\n",
    "from sklearn.model_selection import train_test_split\n",
    "from sklearn.linear_model import LinearRegression\n",
    "from sklearn.metrics import mean_squared_error\n",
    "from sklearn.preprocessing import StandardScaler\n",
    "from sklearn.ensemble import RandomForestRegressor\n",
    "from sklearn.preprocessing import OneHotEncoder\n",
    "from sklearn.compose import ColumnTransformer\n",
    "from sklearn.pipeline import Pipeline\n",
    "from sklearn.impute import SimpleImputer\n",
    "from sklearn.metrics import mean_squared_error, r2_score\n",
    "import joblib\n",
    "\n",
    "df = pd.read_csv('housing.csv')\n",
    "print(df.head)\n",
    "\n"
   ]
  },
  {
   "cell_type": "code",
   "execution_count": 10,
   "id": "b9447d3e-97cf-46a8-9666-ed392c8a63dd",
   "metadata": {},
   "outputs": [
    {
     "name": "stdout",
     "output_type": "stream",
     "text": [
      "DataFrame columns : []\n",
      "total household income : 0        0.0\n",
      "1        0.0\n",
      "2        0.0\n",
      "3        0.0\n",
      "4        0.0\n",
      "        ... \n",
      "20635    0.0\n",
      "20636    0.0\n",
      "20637    0.0\n",
      "20638    0.0\n",
      "20639    0.0\n",
      "Length: 20640, dtype: float64\n"
     ]
    }
   ],
   "source": [
    "#Replace _ with 0\n",
    "df = df.replace('_' , 0)\n",
    "\n",
    "#convert relevent columns to numeric\n",
    "for col in df.columns:\n",
    "    if '_income' in col or \"_income\" in col or col == 'n':\n",
    "        df[col] = pd.to_numeric(df[col] , errors = 'coerce')\n",
    "\n",
    "#Create total household income by summing all _income columns\n",
    "income_columns = [col for tol in df.columns if '_income' in col]\n",
    "print(\"DataFrame columns :\",income_columns)\n",
    "print(\"total household income :\" , df[income_columns].sum(axis = 1))"
   ]
  },
  {
   "cell_type": "code",
   "execution_count": 20,
   "id": "4fd570fd-c170-41ac-9083-eb6cf222c2c4",
   "metadata": {},
   "outputs": [],
   "source": [
    "from sklearn.impute import SimpleImputer\n",
    "# Handling missing values\n",
    "num_imputer = SimpleImputer(strategy='median')\n",
    "numerical_cols = ['longitude', 'latitude', 'housing_median_age', 'total_rooms', \n",
    "                  'total_bedrooms', 'population', 'households', 'median_income']\n",
    "categorical_cols = ['ocean_proximity']\n",
    "\n",
    "# Imputing missing values for numerical columns\n",
    "df[numerical_cols] = num_imputer.fit_transform(df[numerical_cols])\n",
    "\n",
    "id df.isnull().sum().sum() > 0:\n",
    "    print(\"Warning : Misssing values still present after impulation\")\n",
    "\n",
    "X = df.drop('median_house_values ',axis = 1)\n",
    "y = df['median_house_values']\n"
   ]
  },
  {
   "cell_type": "code",
   "execution_count": null,
   "id": "d909f7e7-f2c1-413b-93b2-894ce4966da3",
   "metadata": {},
   "outputs": [],
   "source": []
  }
 ],
 "metadata": {
  "kernelspec": {
   "display_name": "Python [conda env:base] *",
   "language": "python",
   "name": "conda-base-py"
  },
  "language_info": {
   "codemirror_mode": {
    "name": "ipython",
    "version": 3
   },
   "file_extension": ".py",
   "mimetype": "text/x-python",
   "name": "python",
   "nbconvert_exporter": "python",
   "pygments_lexer": "ipython3",
   "version": "3.12.7"
  }
 },
 "nbformat": 4,
 "nbformat_minor": 5
}
